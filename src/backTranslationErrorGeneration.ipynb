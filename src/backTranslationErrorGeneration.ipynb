{
 "cells": [
  {
   "cell_type": "code",
   "execution_count": null,
   "id": "8dcf2651-5edd-4c01-9408-f53c99cb6772",
   "metadata": {},
   "outputs": [],
   "source": [
    "# pip list | grep -E \"numpy|scipy|transformers\"\n",
    "# pip install \"numpy<2.0\"\n",
    "# pip install sacremoses"
   ]
  },
  {
   "cell_type": "code",
   "execution_count": 8,
   "id": "c12c3c8a-7704-4c9d-b214-e906348bea0c",
   "metadata": {},
   "outputs": [
    {
     "name": "stdout",
     "output_type": "stream",
     "text": [
      "Using device: cuda\n",
      "Loading Hindi->English model...\n",
      "Loading English->Hindi model...\n",
      "\n",
      "Testing with first 10 sentences...\n",
      "Reading wikiExtractsData/data/train_merge.src...\n",
      "Processing 10 lines...\n"
     ]
    },
    {
     "name": "stderr",
     "output_type": "stream",
     "text": [
      "Translating: 100%|██████████| 1/1 [00:00<00:00,  1.15it/s]\n"
     ]
    },
    {
     "name": "stdout",
     "output_type": "stream",
     "text": [
      "Writing output to test_output.src...\n"
     ]
    },
    {
     "name": "stdin",
     "output_type": "stream",
     "text": [
      "\n",
      "Continue with full file? (y/n):  n\n"
     ]
    },
    {
     "name": "stdout",
     "output_type": "stream",
     "text": [
      "Stopped after test run\n"
     ]
    }
   ],
   "source": [
    "import torch\n",
    "from transformers import AutoModelForSeq2SeqLM, AutoTokenizer\n",
    "from tqdm import tqdm\n",
    "from typing import List, Dict\n",
    "\n",
    "class OrderedBackTranslator:\n",
    "    def __init__(self, batch_size=32):\n",
    "        self.device = torch.device(\"cuda\" if torch.cuda.is_available() else \"cpu\")\n",
    "        print(f\"Using device: {self.device}\")\n",
    "        \n",
    "        print(\"Loading Hindi->English model...\")\n",
    "        self.hi2en_model = AutoModelForSeq2SeqLM.from_pretrained(\"Helsinki-NLP/opus-mt-hi-en\").to(self.device)\n",
    "        self.hi2en_tokenizer = AutoTokenizer.from_pretrained(\"Helsinki-NLP/opus-mt-hi-en\")\n",
    "        \n",
    "        print(\"Loading English->Hindi model...\")\n",
    "        self.en2hi_model = AutoModelForSeq2SeqLM.from_pretrained(\"Helsinki-NLP/opus-mt-en-hi\").to(self.device)\n",
    "        self.en2hi_tokenizer = AutoTokenizer.from_pretrained(\"Helsinki-NLP/opus-mt-en-hi\")\n",
    "        \n",
    "        self.batch_size = batch_size\n",
    "\n",
    "    def translate_batch(self, texts: List[str], model, tokenizer) -> List[str]:\n",
    "        inputs = tokenizer(texts, return_tensors=\"pt\", padding=True, truncation=True, \n",
    "                         max_length=128).to(self.device)\n",
    "        \n",
    "        with torch.no_grad():\n",
    "            outputs = model.generate(\n",
    "                **inputs,\n",
    "                max_length=128,\n",
    "                num_beams=5,\n",
    "                num_return_sequences=1,\n",
    "                temperature=0.8\n",
    "            )\n",
    "        \n",
    "        return tokenizer.batch_decode(outputs, skip_special_tokens=True)\n",
    "\n",
    "    def process_file(self, input_file: str, output_file: str, max_lines: int = None):\n",
    "        # Read input file while preserving order\n",
    "        print(f\"Reading {input_file}...\")\n",
    "        ordered_sentences = []\n",
    "        with open(input_file, 'r', encoding='utf-8') as f:\n",
    "            for line in f:\n",
    "                line = line.strip()\n",
    "                if line:  # Skip empty lines\n",
    "                    ordered_sentences.append(line)\n",
    "                if max_lines and len(ordered_sentences) >= max_lines:\n",
    "                    break\n",
    "\n",
    "        total_lines = len(ordered_sentences)\n",
    "        print(f\"Processing {total_lines} lines...\")\n",
    "        \n",
    "        # Process in batches but maintain order\n",
    "        translations = []\n",
    "        for i in tqdm(range(0, total_lines, self.batch_size), desc=\"Translating\"):\n",
    "            batch = ordered_sentences[i:i + self.batch_size]\n",
    "            \n",
    "            # Hindi -> English -> Hindi\n",
    "            english = self.translate_batch(batch, self.hi2en_model, self.hi2en_tokenizer)\n",
    "            hindi = self.translate_batch(english, self.en2hi_model, self.en2hi_tokenizer)\n",
    "            \n",
    "            translations.extend(hindi)\n",
    "\n",
    "        # Write output - alternating original and generated sentences\n",
    "        print(f\"Writing output to {output_file}...\")\n",
    "        with open(output_file, 'w', encoding='utf-8') as f:\n",
    "            for orig, trans in zip(ordered_sentences, translations):\n",
    "                if orig != trans:  # Only write if translation is different\n",
    "                    f.write(f\"{trans}\\n\")\n",
    "                else:\n",
    "                    f.write(f\"{orig}\\n\")\n",
    "\n",
    "def print_sample_comparisons(originals: List[str], translations: List[str], num_samples: int = 5):\n",
    "    print(\"\\nSample comparisons (Original → Generated):\")\n",
    "    print(\"-\" * 80)\n",
    "    for i in range(min(num_samples, len(originals))):\n",
    "        print(f\"Original {i+1}: {originals[i]}\")\n",
    "        print(f\"Generated {i+1}: {translations[i]}\")\n",
    "        print(\"-\" * 80)\n",
    "\n",
    "def main():\n",
    "    translator = OrderedBackTranslator(batch_size=32)\n",
    "    \n",
    "    input_file = \"wikiExtractsData/data/train_merge.src\"\n",
    "    output_file = \"wikiExtractsData/data/train_merge_with_errors.src\"\n",
    "    \n",
    "    # First test with a small subset\n",
    "    print(\"\\nTesting with first 10 sentences...\")\n",
    "    translator.process_file(input_file, \"test_output.src\", max_lines=10)\n",
    "    \n",
    "    # Ask for confirmation to process full file\n",
    "    response = input(\"\\nContinue with full file? (y/n): \")\n",
    "    if response.lower() == 'y':\n",
    "        print(\"\\nProcessing full file...\")\n",
    "        translator.process_file(input_file, output_file)\n",
    "    else:\n",
    "        print(\"Stopped after test run\")\n",
    "\n",
    "if __name__ == \"__main__\":\n",
    "    main()"
   ]
  },
  {
   "cell_type": "code",
   "execution_count": 7,
   "id": "c99e0257-f52f-49ad-983c-e457a838a2bb",
   "metadata": {},
   "outputs": [
    {
     "name": "stdout",
     "output_type": "stream",
     "text": [
      "First 5 lines comparison:\n",
      "--------------------------------------------------------------------------------\n",
      "Line 1:\n",
      "Input:  तब राजा को आभास हुआ कि ब्राह्मण और कोई नहीं बल्कि देवों का वास्तुकार विश्वकर्मा थी .\n",
      "Output: तब राजा को एहसास हुआ कि ब्रारान दुनिया का पेशा था।\n",
      "--------------------------------------------------------------------------------\n",
      "Line 2:\n",
      "Input:  अनेक समुदायों में देह को नदी में प्रवाहित करने की परंपरा हैं , ताकि पानी में रहने वाले विभिन्न जीवों को आहार उपलब्ध हो सके .\n",
      "Output: अनेक समुदायों में, शरीर को नदी में बहने देने के लिए परम्पराएँ हैं, ताकि पानी में रहनेवाले विभिन्‍न प्राणी भोजन से प्रदान किए जा सकें ।\n",
      "--------------------------------------------------------------------------------\n",
      "Line 3:\n",
      "Input:  डीएनए क्षति और उत्परिवर्तन के बीच अंतर करना अत्यंत महत्वपूर्ण हैं .\n",
      "Output: डी. और उत्परिवर्तन के बीच फर्क सबसे महत्वपूर्ण है.\n",
      "--------------------------------------------------------------------------------\n",
      "Line 4:\n",
      "Input:  यह खाना बनाने के काम आती है .\n",
      "Output: यह खाना बनाने के लिए इस्तेमाल किया जाता है.\n",
      "--------------------------------------------------------------------------------\n",
      "Line 5:\n",
      "Input:  फ़िल्म का एल्बम अधिकार ज़ी म्यूजिक कंपनी द्वारा अधिगृहीत किए गए थे , और एल्बम को ११ मार्च २०१७ को रिलीज़ किया गया था .\n",
      "Output: फिल्म के एलबम को शक्ति में बनाया गया था Yargi कंपनी द्वारा बनाया गया था, और एलबम मार्च 1117 पर रिलीज़ किया गया था.\n",
      "--------------------------------------------------------------------------------\n"
     ]
    }
   ],
   "source": [
    "def test_file_ordering(input_file: str, output_file: str, num_lines: int = 5):\n",
    "    \"\"\"Compare the first few lines of input and output files\"\"\"\n",
    "    print(f\"First {num_lines} lines comparison:\")\n",
    "    print(\"-\" * 80)\n",
    "    \n",
    "    with open(input_file, 'r', encoding='utf-8') as f:\n",
    "        input_lines = [line.strip() for line in f if line.strip()][:num_lines]\n",
    "    \n",
    "    with open(output_file, 'r', encoding='utf-8') as f:\n",
    "        output_lines = [line.strip() for line in f if line.strip()][:num_lines]\n",
    "    \n",
    "    for i, (input_line, output_line) in enumerate(zip(input_lines, output_lines), 1):\n",
    "        print(f\"Line {i}:\")\n",
    "        print(f\"Input:  {input_line}\")\n",
    "        print(f\"Output: {output_line}\")\n",
    "        print(\"-\" * 80)\n",
    "\n",
    "if __name__ == \"__main__\":\n",
    "    # Test with your files\n",
    "    test_file_ordering(\n",
    "        \"wikiExtractsData/data/train_merge.src\",\n",
    "        \"test_output.src\"\n",
    "    )"
   ]
  },
  {
   "cell_type": "code",
   "execution_count": null,
   "id": "233260fa-48f4-43dd-b185-bff77ec5af5b",
   "metadata": {},
   "outputs": [],
   "source": []
  }
 ],
 "metadata": {
  "kernelspec": {
   "display_name": "Python 3 (ipykernel)",
   "language": "python",
   "name": "python3"
  },
  "language_info": {
   "codemirror_mode": {
    "name": "ipython",
    "version": 3
   },
   "file_extension": ".py",
   "mimetype": "text/x-python",
   "name": "python",
   "nbconvert_exporter": "python",
   "pygments_lexer": "ipython3",
   "version": "3.9.9"
  }
 },
 "nbformat": 4,
 "nbformat_minor": 5
}
