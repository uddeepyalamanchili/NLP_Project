{
  "nbformat": 4,
  "nbformat_minor": 0,
  "metadata": {
    "colab": {
      "provenance": []
    },
    "kernelspec": {
      "name": "python3",
      "display_name": "Python 3"
    }
  },
  "cells": [
    {
      "cell_type": "code",
      "metadata": {
        "id": "niJ0aQFk4534",
        "outputId": "eb941a8e-a4ab-4b9d-eacc-1855b9e5903d",
        "colab": {
          "base_uri": "https://localhost:8080/"
        }
      },
      "source": [
        "! git clone \"https://github.com/sujeetlearner/mlconvgec\""
      ],
      "execution_count": null,
      "outputs": [
        {
          "output_type": "stream",
          "name": "stdout",
          "text": [
            "Cloning into 'mlconvgec'...\n",
            "remote: Enumerating objects: 163, done.\u001b[K\n",
            "remote: Counting objects:   0% (1/163)\u001b[K\rremote: Counting objects:   1% (2/163)\u001b[K\rremote: Counting objects:   2% (4/163)\u001b[K\rremote: Counting objects:   3% (5/163)\u001b[K\rremote: Counting objects:   4% (7/163)\u001b[K\rremote: Counting objects:   5% (9/163)\u001b[K\rremote: Counting objects:   6% (10/163)\u001b[K\rremote: Counting objects:   7% (12/163)\u001b[K\rremote: Counting objects:   8% (14/163)\u001b[K\rremote: Counting objects:   9% (15/163)\u001b[K\rremote: Counting objects:  10% (17/163)\u001b[K\rremote: Counting objects:  11% (18/163)\u001b[K\rremote: Counting objects:  12% (20/163)\u001b[K\rremote: Counting objects:  13% (22/163)\u001b[K\rremote: Counting objects:  14% (23/163)\u001b[K\rremote: Counting objects:  15% (25/163)\u001b[K\rremote: Counting objects:  16% (27/163)\u001b[K\rremote: Counting objects:  17% (28/163)\u001b[K\rremote: Counting objects:  18% (30/163)\u001b[K\rremote: Counting objects:  19% (31/163)\u001b[K\rremote: Counting objects:  20% (33/163)\u001b[K\rremote: Counting objects:  21% (35/163)\u001b[K\rremote: Counting objects:  22% (36/163)\u001b[K\rremote: Counting objects:  23% (38/163)\u001b[K\rremote: Counting objects:  24% (40/163)\u001b[K\rremote: Counting objects:  25% (41/163)\u001b[K\rremote: Counting objects:  26% (43/163)\u001b[K\rremote: Counting objects:  27% (45/163)\u001b[K\rremote: Counting objects:  28% (46/163)\u001b[K\rremote: Counting objects:  29% (48/163)\u001b[K\rremote: Counting objects:  30% (49/163)\u001b[K\rremote: Counting objects:  31% (51/163)\u001b[K\rremote: Counting objects:  32% (53/163)\u001b[K\rremote: Counting objects:  33% (54/163)\u001b[K\rremote: Counting objects:  34% (56/163)\u001b[K\rremote: Counting objects:  35% (58/163)\u001b[K\rremote: Counting objects:  36% (59/163)\u001b[K\rremote: Counting objects:  37% (61/163)\u001b[K\rremote: Counting objects:  38% (62/163)\u001b[K\rremote: Counting objects:  39% (64/163)\u001b[K\rremote: Counting objects:  40% (66/163)\u001b[K\rremote: Counting objects:  41% (67/163)\u001b[K\rremote: Counting objects:  42% (69/163)\u001b[K\rremote: Counting objects:  43% (71/163)\u001b[K\rremote: Counting objects:  44% (72/163)\u001b[K\rremote: Counting objects:  45% (74/163)\u001b[K\rremote: Counting objects:  46% (75/163)\u001b[K\rremote: Counting objects:  47% (77/163)\u001b[K\rremote: Counting objects:  48% (79/163)\u001b[K\rremote: Counting objects:  49% (80/163)\u001b[K\rremote: Counting objects:  50% (82/163)\u001b[K\rremote: Counting objects:  51% (84/163)\u001b[K\rremote: Counting objects:  52% (85/163)\u001b[K\rremote: Counting objects:  53% (87/163)\u001b[K\rremote: Counting objects:  54% (89/163)\u001b[K\rremote: Counting objects:  55% (90/163)\u001b[K\rremote: Counting objects:  56% (92/163)\u001b[K\rremote: Counting objects:  57% (93/163)\u001b[K\rremote: Counting objects:  58% (95/163)\u001b[K\rremote: Counting objects:  59% (97/163)\u001b[K\rremote: Counting objects:  60% (98/163)\u001b[K\rremote: Counting objects:  61% (100/163)\u001b[K\rremote: Counting objects:  62% (102/163)\u001b[K\rremote: Counting objects:  63% (103/163)\u001b[K\rremote: Counting objects:  64% (105/163)\u001b[K\rremote: Counting objects:  65% (106/163)\u001b[K\rremote: Counting objects:  66% (108/163)\u001b[K\rremote: Counting objects:  67% (110/163)\u001b[K\rremote: Counting objects:  68% (111/163)\u001b[K\rremote: Counting objects:  69% (113/163)\u001b[K\rremote: Counting objects:  70% (115/163)\u001b[K\rremote: Counting objects:  71% (116/163)\u001b[K\rremote: Counting objects:  72% (118/163)\u001b[K\rremote: Counting objects:  73% (119/163)\u001b[K\rremote: Counting objects:  74% (121/163)\u001b[K\rremote: Counting objects:  75% (123/163)\u001b[K\rremote: Counting objects:  76% (124/163)\u001b[K\rremote: Counting objects:  77% (126/163)\u001b[K\rremote: Counting objects:  78% (128/163)\u001b[K\rremote: Counting objects:  79% (129/163)\u001b[K\rremote: Counting objects:  80% (131/163)\u001b[K\rremote: Counting objects:  81% (133/163)\u001b[K\rremote: Counting objects:  82% (134/163)\u001b[K\rremote: Counting objects:  83% (136/163)\u001b[K\rremote: Counting objects:  84% (137/163)\u001b[K\rremote: Counting objects:  85% (139/163)\u001b[K\rremote: Counting objects:  86% (141/163)\u001b[K\rremote: Counting objects:  87% (142/163)\u001b[K\rremote: Counting objects:  88% (144/163)\u001b[K\rremote: Counting objects:  89% (146/163)\u001b[K\rremote: Counting objects:  90% (147/163)\u001b[K\rremote: Counting objects:  91% (149/163)\u001b[K\rremote: Counting objects:  92% (150/163)\u001b[K\rremote: Counting objects:  93% (152/163)\u001b[K\rremote: Counting objects:  94% (154/163)\u001b[K\rremote: Counting objects:  95% (155/163)\u001b[K\rremote: Counting objects:  96% (157/163)\u001b[K\rremote: Counting objects:  97% (159/163)\u001b[K\rremote: Counting objects:  98% (160/163)\u001b[K\rremote: Counting objects:  99% (162/163)\u001b[K\rremote: Counting objects: 100% (163/163)\u001b[K\rremote: Counting objects: 100% (163/163), done.\u001b[K\n",
            "remote: Compressing objects:   0% (1/109)\u001b[K\rremote: Compressing objects:   1% (2/109)\u001b[K\rremote: Compressing objects:   2% (3/109)\u001b[K\rremote: Compressing objects:   3% (4/109)\u001b[K\rremote: Compressing objects:   4% (5/109)\u001b[K\rremote: Compressing objects:   5% (6/109)\u001b[K\rremote: Compressing objects:   6% (7/109)\u001b[K\rremote: Compressing objects:   7% (8/109)\u001b[K\rremote: Compressing objects:   8% (9/109)\u001b[K\rremote: Compressing objects:   9% (10/109)\u001b[K\rremote: Compressing objects:  10% (11/109)\u001b[K\rremote: Compressing objects:  11% (12/109)\u001b[K\rremote: Compressing objects:  12% (14/109)\u001b[K\rremote: Compressing objects:  13% (15/109)\u001b[K\rremote: Compressing objects:  14% (16/109)\u001b[K\rremote: Compressing objects:  15% (17/109)\u001b[K\rremote: Compressing objects:  16% (18/109)\u001b[K\rremote: Compressing objects:  17% (19/109)\u001b[K\rremote: Compressing objects:  18% (20/109)\u001b[K\rremote: Compressing objects:  19% (21/109)\u001b[K\rremote: Compressing objects:  20% (22/109)\u001b[K\rremote: Compressing objects:  21% (23/109)\u001b[K\rremote: Compressing objects:  22% (24/109)\u001b[K\rremote: Compressing objects:  23% (26/109)\u001b[K\rremote: Compressing objects:  24% (27/109)\u001b[K\rremote: Compressing objects:  25% (28/109)\u001b[K\rremote: Compressing objects:  26% (29/109)\u001b[K\rremote: Compressing objects:  27% (30/109)\u001b[K\rremote: Compressing objects:  28% (31/109)\u001b[K\rremote: Compressing objects:  29% (32/109)\u001b[K\rremote: Compressing objects:  30% (33/109)\u001b[K\rremote: Compressing objects:  31% (34/109)\u001b[K\rremote: Compressing objects:  32% (35/109)\u001b[K\rremote: Compressing objects:  33% (36/109)\u001b[K\rremote: Compressing objects:  34% (38/109)\u001b[K\rremote: Compressing objects:  35% (39/109)\u001b[K\rremote: Compressing objects:  36% (40/109)\u001b[K\rremote: Compressing objects:  37% (41/109)\u001b[K\rremote: Compressing objects:  38% (42/109)\u001b[K\rremote: Compressing objects:  39% (43/109)\u001b[K\rremote: Compressing objects:  40% (44/109)\u001b[K\rremote: Compressing objects:  41% (45/109)\u001b[K\rremote: Compressing objects:  42% (46/109)\u001b[K\rremote: Compressing objects:  43% (47/109)\u001b[K\rremote: Compressing objects:  44% (48/109)\u001b[K\rremote: Compressing objects:  45% (50/109)\u001b[K\rremote: Compressing objects:  46% (51/109)\u001b[K\rremote: Compressing objects:  47% (52/109)\u001b[K\rremote: Compressing objects:  48% (53/109)\u001b[K\rremote: Compressing objects:  49% (54/109)\u001b[K\rremote: Compressing objects:  50% (55/109)\u001b[K\rremote: Compressing objects:  51% (56/109)\u001b[K\rremote: Compressing objects:  52% (57/109)\u001b[K\rremote: Compressing objects:  53% (58/109)\u001b[K\rremote: Compressing objects:  54% (59/109)\u001b[K\rremote: Compressing objects:  55% (60/109)\u001b[K\rremote: Compressing objects:  56% (62/109)\u001b[K\rremote: Compressing objects:  57% (63/109)\u001b[K\rremote: Compressing objects:  58% (64/109)\u001b[K\rremote: Compressing objects:  59% (65/109)\u001b[K\rremote: Compressing objects:  60% (66/109)\u001b[K\rremote: Compressing objects:  61% (67/109)\u001b[K\rremote: Compressing objects:  62% (68/109)\u001b[K\rremote: Compressing objects:  63% (69/109)\u001b[K\rremote: Compressing objects:  64% (70/109)\u001b[K\rremote: Compressing objects:  65% (71/109)\u001b[K\rremote: Compressing objects:  66% (72/109)\u001b[K\rremote: Compressing objects:  67% (74/109)\u001b[K\rremote: Compressing objects:  68% (75/109)\u001b[K\rremote: Compressing objects:  69% (76/109)\u001b[K\rremote: Compressing objects:  70% (77/109)\u001b[K\rremote: Compressing objects:  71% (78/109)\u001b[K\rremote: Compressing objects:  72% (79/109)\u001b[K\rremote: Compressing objects:  73% (80/109)\u001b[K\rremote: Compressing objects:  74% (81/109)\u001b[K\rremote: Compressing objects:  75% (82/109)\u001b[K\rremote: Compressing objects:  76% (83/109)\u001b[K\rremote: Compressing objects:  77% (84/109)\u001b[K\rremote: Compressing objects:  78% (86/109)\u001b[K\rremote: Compressing objects:  79% (87/109)\u001b[K\rremote: Compressing objects:  80% (88/109)\u001b[K\rremote: Compressing objects:  81% (89/109)\u001b[K\rremote: Compressing objects:  82% (90/109)\u001b[K\rremote: Compressing objects:  83% (91/109)\u001b[K\rremote: Compressing objects:  84% (92/109)\u001b[K\rremote: Compressing objects:  85% (93/109)\u001b[K\rremote: Compressing objects:  86% (94/109)\u001b[K\rremote: Compressing objects:  87% (95/109)\u001b[K\rremote: Compressing objects:  88% (96/109)\u001b[K\rremote: Compressing objects:  89% (98/109)\u001b[K\rremote: Compressing objects:  90% (99/109)\u001b[K\rremote: Compressing objects:  91% (100/109)\u001b[K\rremote: Compressing objects:  92% (101/109)\u001b[K\rremote: Compressing objects:  93% (102/109)\u001b[K\rremote: Compressing objects:  94% (103/109)\u001b[K\rremote: Compressing objects:  95% (104/109)\u001b[K\rremote: Compressing objects:  96% (105/109)\u001b[K\rremote: Compressing objects:  97% (106/109)\u001b[K\rremote: Compressing objects:  98% (107/109)\u001b[K\rremote: Compressing objects:  99% (108/109)\u001b[K\rremote: Compressing objects: 100% (109/109)\u001b[K\rremote: Compressing objects: 100% (109/109), done.\u001b[K\n",
            "Receiving objects:   0% (1/163)\rReceiving objects:   1% (2/163)\rReceiving objects:   2% (4/163)\rReceiving objects:   3% (5/163)\rReceiving objects:   4% (7/163)\rReceiving objects:   5% (9/163)\rReceiving objects:   6% (10/163)\rReceiving objects:   7% (12/163)\rReceiving objects:   8% (14/163)\rReceiving objects:   9% (15/163)\rReceiving objects:  10% (17/163)\rReceiving objects:  11% (18/163)\rReceiving objects:  12% (20/163)\rReceiving objects:  13% (22/163)\rReceiving objects:  14% (23/163)\rReceiving objects:  15% (25/163)\rReceiving objects:  16% (27/163)\rReceiving objects:  17% (28/163)\rReceiving objects:  18% (30/163)\rReceiving objects:  19% (31/163)\rReceiving objects:  20% (33/163)\rReceiving objects:  21% (35/163)\rReceiving objects:  22% (36/163)\rReceiving objects:  23% (38/163)\rReceiving objects:  24% (40/163)\rReceiving objects:  25% (41/163)\rReceiving objects:  26% (43/163)\rReceiving objects:  27% (45/163)\rReceiving objects:  28% (46/163)\rReceiving objects:  29% (48/163)\rReceiving objects:  30% (49/163)\rReceiving objects:  31% (51/163)\rReceiving objects:  32% (53/163)\rReceiving objects:  33% (54/163)\rReceiving objects:  34% (56/163)\rReceiving objects:  35% (58/163)\rReceiving objects:  36% (59/163)\rReceiving objects:  37% (61/163)\rremote: Total 163 (delta 67), reused 129 (delta 48), pack-reused 0 (from 0)\u001b[K\n",
            "Receiving objects:  38% (62/163)\rReceiving objects:  39% (64/163)\rReceiving objects:  40% (66/163)\rReceiving objects:  41% (67/163)\rReceiving objects:  42% (69/163)\rReceiving objects:  43% (71/163)\rReceiving objects:  44% (72/163)\rReceiving objects:  45% (74/163)\rReceiving objects:  46% (75/163)\rReceiving objects:  47% (77/163)\rReceiving objects:  48% (79/163)\rReceiving objects:  49% (80/163)\rReceiving objects:  50% (82/163)\rReceiving objects:  51% (84/163)\rReceiving objects:  52% (85/163)\rReceiving objects:  53% (87/163)\rReceiving objects:  54% (89/163)\rReceiving objects:  55% (90/163)\rReceiving objects:  56% (92/163)\rReceiving objects:  57% (93/163)\rReceiving objects:  58% (95/163)\rReceiving objects:  59% (97/163)\rReceiving objects:  60% (98/163)\rReceiving objects:  61% (100/163)\rReceiving objects:  62% (102/163)\rReceiving objects:  63% (103/163)\rReceiving objects:  64% (105/163)\rReceiving objects:  65% (106/163)\rReceiving objects:  66% (108/163)\rReceiving objects:  67% (110/163)\rReceiving objects:  68% (111/163)\rReceiving objects:  69% (113/163)\rReceiving objects:  70% (115/163)\rReceiving objects:  71% (116/163)\rReceiving objects:  72% (118/163)\rReceiving objects:  73% (119/163)\rReceiving objects:  74% (121/163)\rReceiving objects:  75% (123/163)\rReceiving objects:  76% (124/163)\rReceiving objects:  77% (126/163)\rReceiving objects:  78% (128/163)\rReceiving objects:  79% (129/163)\rReceiving objects:  80% (131/163)\rReceiving objects:  81% (133/163)\rReceiving objects:  82% (134/163)\rReceiving objects:  83% (136/163)\rReceiving objects:  84% (137/163)\rReceiving objects:  85% (139/163)\rReceiving objects:  86% (141/163)\rReceiving objects:  87% (142/163)\rReceiving objects:  88% (144/163)\rReceiving objects:  89% (146/163)\rReceiving objects:  90% (147/163)\rReceiving objects:  91% (149/163)\rReceiving objects:  92% (150/163)\rReceiving objects:  93% (152/163)\rReceiving objects:  94% (154/163)\rReceiving objects:  95% (155/163)\rReceiving objects:  96% (157/163)\rReceiving objects:  97% (159/163)\rReceiving objects:  98% (160/163)\rReceiving objects:  99% (162/163)\rReceiving objects: 100% (163/163)\rReceiving objects: 100% (163/163), 109.04 KiB | 12.12 MiB/s, done.\n",
            "Resolving deltas:   0% (0/67)\rResolving deltas:   1% (1/67)\rResolving deltas:   2% (2/67)\rResolving deltas:   4% (3/67)\rResolving deltas:   5% (4/67)\rResolving deltas:   7% (5/67)\rResolving deltas:   8% (6/67)\rResolving deltas:  10% (7/67)\rResolving deltas:  11% (8/67)\rResolving deltas:  13% (9/67)\rResolving deltas:  14% (10/67)\rResolving deltas:  16% (11/67)\rResolving deltas:  17% (12/67)\rResolving deltas:  19% (13/67)\rResolving deltas:  20% (14/67)\rResolving deltas:  22% (15/67)\rResolving deltas:  23% (16/67)\rResolving deltas:  25% (17/67)\rResolving deltas:  26% (18/67)\rResolving deltas:  28% (19/67)\rResolving deltas:  29% (20/67)\rResolving deltas:  31% (21/67)\rResolving deltas:  32% (22/67)\rResolving deltas:  34% (23/67)\rResolving deltas:  35% (24/67)\rResolving deltas:  37% (25/67)\rResolving deltas:  38% (26/67)\rResolving deltas:  40% (27/67)\rResolving deltas:  41% (28/67)\rResolving deltas:  43% (29/67)\rResolving deltas:  44% (30/67)\rResolving deltas:  46% (31/67)\rResolving deltas:  47% (32/67)\rResolving deltas:  49% (33/67)\rResolving deltas:  50% (34/67)\rResolving deltas:  52% (35/67)\rResolving deltas:  53% (36/67)\rResolving deltas:  55% (37/67)\rResolving deltas:  56% (38/67)\rResolving deltas:  58% (39/67)\rResolving deltas:  59% (40/67)\rResolving deltas:  61% (41/67)\rResolving deltas:  62% (42/67)\rResolving deltas:  64% (43/67)\rResolving deltas:  65% (44/67)\rResolving deltas:  67% (45/67)\rResolving deltas:  68% (46/67)\rResolving deltas:  70% (47/67)\rResolving deltas:  71% (48/67)\rResolving deltas:  73% (49/67)\rResolving deltas:  74% (50/67)\rResolving deltas:  76% (51/67)\rResolving deltas:  77% (52/67)\rResolving deltas:  79% (53/67)\rResolving deltas:  80% (54/67)\rResolving deltas:  82% (55/67)\rResolving deltas:  83% (56/67)\rResolving deltas:  85% (57/67)\rResolving deltas:  86% (58/67)\rResolving deltas:  88% (59/67)\rResolving deltas:  91% (61/67)\rResolving deltas:  92% (62/67)\rResolving deltas:  94% (63/67)\rResolving deltas:  95% (64/67)\rResolving deltas:  97% (65/67)\rResolving deltas:  98% (66/67)\rResolving deltas: 100% (67/67)\rResolving deltas: 100% (67/67), done.\n"
          ]
        }
      ]
    },
    {
      "cell_type": "code",
      "metadata": {
        "id": "yKSOv_gZBVBh",
        "colab": {
          "base_uri": "https://localhost:8080/"
        },
        "outputId": "d457196b-be39-40f7-cabe-862577111139"
      },
      "source": [
        "# copying data\n",
        "%cd mlconvgec\n",
        "! cp ../train_merge.src data/train.src\n",
        "! cp ../train_merge.tgt data/train.tgt\n",
        "! cp ../valid.src data/dev.src\n",
        "! cp ../valid.tgt data/dev.tgt"
      ],
      "execution_count": null,
      "outputs": [
        {
          "output_type": "stream",
          "name": "stdout",
          "text": [
            "/content/mlconvgec/mlconvgec\n",
            "cp: cannot stat '../train_merge.src': No such file or directory\n",
            "cp: cannot stat '../train_merge.tgt': No such file or directory\n",
            "cp: cannot stat '../valid.src': No such file or directory\n",
            "cp: cannot stat '../valid.tgt': No such file or directory\n"
          ]
        }
      ]
    },
    {
      "cell_type": "code",
      "metadata": {
        "id": "9pP02U5xhirp",
        "colab": {
          "base_uri": "https://localhost:8080/"
        },
        "outputId": "02453800-1353-4db4-9f44-f1e0184a531e"
      },
      "source": [
        "# required to install software\n",
        "! bash models/download.sh"
      ],
      "execution_count": null,
      "outputs": [
        {
          "output_type": "stream",
          "name": "stdout",
          "text": [
            "+ BASEURL=https://tinyurl.com/yd6wvhgw/mlconvgec2018/models\n",
            "+ mkdir -p mlconv mlconv_embed\n",
            "+ for model_name in mlconv mlconv_embed\n",
            "+ for i in {1..4}\n",
            "+ curl -L -o mlconv/model1.pt https://tinyurl.com/yd6wvhgw/mlconvgec2018/models/mlconv/model1.pt\n",
            "  % Total    % Received % Xferd  Average Speed   Time    Time     Time  Current\n",
            "                                 Dload  Upload   Total   Spent    Left  Speed\n",
            "100   594    0   594    0     0   1329      0 --:--:-- --:--:-- --:--:--  1328\n",
            "100   390  100   390    0     0    194      0  0:00:02  0:00:02 --:--:--   689\n",
            "100 1094M  100 1094M    0     0   284k      0  1:05:44  1:05:44 --:--:--  298k\n",
            "+ for i in {1..4}\n",
            "+ curl -L -o mlconv/model2.pt https://tinyurl.com/yd6wvhgw/mlconvgec2018/models/mlconv/model2.pt\n",
            "  % Total    % Received % Xferd  Average Speed   Time    Time     Time  Current\n",
            "                                 Dload  Upload   Total   Spent    Left  Speed\n",
            "100   594    0   594    0     0   2824      0 --:--:-- --:--:-- --:--:--  2828\n",
            "100   390  100   390    0     0    222      0  0:00:01  0:00:01 --:--:--   432\n",
            " 98 1094M   98 1072M    0     0   285k      0  1:05:31  1:04:13  0:01:18  283k^C\n"
          ]
        }
      ]
    },
    {
      "cell_type": "code",
      "metadata": {
        "id": "cpEbXfaoholT",
        "colab": {
          "base_uri": "https://localhost:8080/"
        },
        "outputId": "fdc72057-abfa-4442-89a2-353d08cf048f"
      },
      "source": [
        "cd training"
      ],
      "execution_count": null,
      "outputs": [
        {
          "output_type": "stream",
          "name": "stdout",
          "text": [
            "/content/mlconvgec/mlconvgec/training\n"
          ]
        }
      ]
    },
    {
      "cell_type": "markdown",
      "metadata": {
        "id": "3yn4xnSgXUEt"
      },
      "source": [
        "keep train.src ,train.trg file for training in DATA_DIR\n",
        "keep dev.src,dev.trg for validation in DATA_DIR"
      ]
    },
    {
      "cell_type": "code",
      "metadata": {
        "id": "yNc6YzNF18FL",
        "outputId": "80dfcab1-e406-4cd3-9328-e51e7d0f0ece",
        "colab": {
          "base_uri": "https://localhost:8080/"
        }
      },
      "source": [
        "# run preprocess.sh after putting train and validation data in $DATA_DIR\n",
        "!git clone https://github.com/rsennrich/subword-nmt.git /content/mlconvgec/software/subword-nmt\n",
        "! bash preprocess.sh"
      ],
      "execution_count": null,
      "outputs": [
        {
          "output_type": "stream",
          "name": "stdout",
          "text": [
            "Cloning into '/content/mlconvgec/software/subword-nmt'...\n",
            "remote: Enumerating objects: 622, done.\u001b[K\n",
            "remote: Counting objects:   2% (1/46)\u001b[K\rremote: Counting objects:   4% (2/46)\u001b[K\rremote: Counting objects:   6% (3/46)\u001b[K\rremote: Counting objects:   8% (4/46)\u001b[K\rremote: Counting objects:  10% (5/46)\u001b[K\rremote: Counting objects:  13% (6/46)\u001b[K\rremote: Counting objects:  15% (7/46)\u001b[K\rremote: Counting objects:  17% (8/46)\u001b[K\rremote: Counting objects:  19% (9/46)\u001b[K\rremote: Counting objects:  21% (10/46)\u001b[K\rremote: Counting objects:  23% (11/46)\u001b[K\rremote: Counting objects:  26% (12/46)\u001b[K\rremote: Counting objects:  28% (13/46)\u001b[K\rremote: Counting objects:  30% (14/46)\u001b[K\rremote: Counting objects:  32% (15/46)\u001b[K\rremote: Counting objects:  34% (16/46)\u001b[K\rremote: Counting objects:  36% (17/46)\u001b[K\rremote: Counting objects:  39% (18/46)\u001b[K\rremote: Counting objects:  41% (19/46)\u001b[K\rremote: Counting objects:  43% (20/46)\u001b[K\rremote: Counting objects:  45% (21/46)\u001b[K\rremote: Counting objects:  47% (22/46)\u001b[K\rremote: Counting objects:  50% (23/46)\u001b[K\rremote: Counting objects:  52% (24/46)\u001b[K\rremote: Counting objects:  54% (25/46)\u001b[K\rremote: Counting objects:  56% (26/46)\u001b[K\rremote: Counting objects:  58% (27/46)\u001b[K\rremote: Counting objects:  60% (28/46)\u001b[K\rremote: Counting objects:  63% (29/46)\u001b[K\rremote: Counting objects:  65% (30/46)\u001b[K\rremote: Counting objects:  67% (31/46)\u001b[K\rremote: Counting objects:  69% (32/46)\u001b[K\rremote: Counting objects:  71% (33/46)\u001b[K\rremote: Counting objects:  73% (34/46)\u001b[K\rremote: Counting objects:  76% (35/46)\u001b[K\rremote: Counting objects:  78% (36/46)\u001b[K\rremote: Counting objects:  80% (37/46)\u001b[K\rremote: Counting objects:  82% (38/46)\u001b[K\rremote: Counting objects:  84% (39/46)\u001b[K\rremote: Counting objects:  86% (40/46)\u001b[K\rremote: Counting objects:  89% (41/46)\u001b[K\rremote: Counting objects:  91% (42/46)\u001b[K\rremote: Counting objects:  93% (43/46)\u001b[K\rremote: Counting objects:  95% (44/46)\u001b[K\rremote: Counting objects:  97% (45/46)\u001b[K\rremote: Counting objects: 100% (46/46)\u001b[K\rremote: Counting objects: 100% (46/46), done.\u001b[K\n",
            "remote: Compressing objects: 100% (30/30), done.\u001b[K\n",
            "remote: Total 622 (delta 25), reused 31 (delta 16), pack-reused 576 (from 1)\u001b[K\n",
            "Receiving objects: 100% (622/622), 261.27 KiB | 2.23 MiB/s, done.\n",
            "Resolving deltas: 100% (374/374), done.\n",
            "+ source ../paths.sh\n",
            "++++ dirname ../paths.sh\n",
            "+++ cd ..\n",
            "+++ pwd\n",
            "++ BASE_DIR=/content/mlconvgec\n",
            "++ DATA_DIR=/content/mlconvgec/data\n",
            "++ MODEL_DIR=/content/mlconvgec/models\n",
            "++ SCRIPTS_DIR=/content/mlconvgec/scripts\n",
            "++ SOFTWARE_DIR=/content/mlconvgec/software\n",
            "+ train_data_prefix=/content/mlconvgec/data/train\n",
            "+ dev_data_prefix=/content/mlconvgec/data/dev\n",
            "+ dev_data_m2=/content/mlconvgec/data/dev.all.m2\n",
            "+ SUBWORD_NMT=/content/mlconvgec/software/subword-nmt\n",
            "+ FAIRSEQPY=/content/mlconvgec/software/fairseq-py\n",
            "+ mkdir -p models/bpe_model\n",
            "+ bpe_operations=30000\n",
            "+ cat /content/mlconvgec/data/train.trg\n",
            "+ /content/mlconvgec/software/subword-nmt/learn_bpe.py -s 30000\n",
            "/content/mlconvgec/software/subword-nmt/learn_bpe.py:368: DeprecationWarning: this script's location has moved to /content/mlconvgec/software/subword-nmt/subword_nmt. This symbolic link will be removed in a future version. Please point to the new location, or install the package and use the command 'subword-nmt'\n",
            "  warnings.warn(\n",
            "100% 30000/30000 [01:21<00:00, 366.45it/s]\n",
            "+ mkdir -p processed/\n",
            "+ python3 /content/mlconvgec/scripts/apply_bpe.py -c models/bpe_model/train.bpe.model\n",
            "+ python3 /content/mlconvgec/scripts/apply_bpe.py -c models/bpe_model/train.bpe.model\n",
            "+ python3 /content/mlconvgec/scripts/apply_bpe.py -c models/bpe_model/train.bpe.model\n",
            "+ python3 /content/mlconvgec/scripts/apply_bpe.py -c models/bpe_model/train.bpe.model\n",
            "+ cp /content/mlconvgec/data/dev.src processed/dev.input.txt\n",
            "+ python3 /content/mlconvgec/scripts/get_diff.py processed/train.all src trg\n",
            "+ cut -f1 processed/train.annotated.src-trg\n",
            "+ cut -f2 processed/train.annotated.src-trg\n",
            "+ python3 /content/mlconvgec/software/fairseq-py/preprocess.py --source-lang src --target-lang trg --trainpref processed/train --validpref processed/dev --nwordssrc 30000 --nwordstgt 30000 --destdir processed/bin\n",
            "python3: can't open file '/content/mlconvgec/software/fairseq-py/preprocess.py': [Errno 2] No such file or directory\n"
          ]
        }
      ]
    },
    {
      "cell_type": "code",
      "metadata": {
        "id": "_uhDhfHnEegF"
      },
      "source": [
        "# for training\n",
        "! bash train.sh"
      ],
      "execution_count": null,
      "outputs": []
    },
    {
      "cell_type": "code",
      "metadata": {
        "id": "RonVHQYxYfKM"
      },
      "source": [
        "#This script is to run the complete GEC system on any given test set\n",
        "for err_file in os.listdir('../../data/out'):\n",
        "  ! bash run_trained_model.sh '../../data/out/{err_file}/{err_file}.src '../../data/out/{err_file}/mlconv.out' 0 \"../models/mlconv/model1000\""
      ],
      "execution_count": null,
      "outputs": []
    }
  ]
}