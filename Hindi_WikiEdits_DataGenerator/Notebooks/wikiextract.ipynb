{
  "nbformat": 4,
  "nbformat_minor": 0,
  "metadata": {
    "colab": {
      "provenance": [],
      "gpuType": "T4"
    },
    "kernelspec": {
      "name": "python3",
      "display_name": "Python 3"
    },
    "accelerator": "GPU"
  },
  "cells": [
    {
      "cell_type": "code",
      "metadata": {
        "id": "kcKYI4cXbJCh",
        "cellView": "code",
        "outputId": "6b58b5a5-5387-416d-9c5a-2255e6a0928f",
        "colab": {
          "base_uri": "https://localhost:8080/"
        }
      },
      "source": [
        "!git clone \"https://github.com/aditya-sudo/Wikiextract.git\"\n"
      ],
      "execution_count": 9,
      "outputs": [
        {
          "output_type": "stream",
          "name": "stdout",
          "text": [
            "fatal: destination path 'Wikiextract' already exists and is not an empty directory.\n"
          ]
        }
      ]
    },
    {
      "cell_type": "markdown",
      "metadata": {
        "id": "ptGhnRN50tRO"
      },
      "source": [
        "\n",
        "\n",
        "```\n",
        "# This is formatted as code\n",
        "```\n",
        "\n",
        "Run the setup file. It downloads the required repos and data dumps\n"
      ]
    },
    {
      "cell_type": "code",
      "metadata": {
        "id": "tNqdFvoNcy7X",
        "colab": {
          "base_uri": "https://localhost:8080/"
        },
        "outputId": "59469196-b970-44c7-a035-db585b71e74e"
      },
      "source": [
        "!bash setup.sh"
      ],
      "execution_count": 10,
      "outputs": [
        {
          "output_type": "stream",
          "name": "stdout",
          "text": [
            "+ '[' '!' -f hiwiki-pages-meta-current.xml ']'\n",
            "+ '[' '!' -d hindi-pos-tagger-3.0 ']'\n",
            "+ curl -L --fail https://bitbucket.org/sivareddyg/hindi-part-of-speech-tagger/downloads/hindi-pos-tagger-3.0.tgz --output hindi-pos-tagger-3.0.tgz\n",
            "  % Total    % Received % Xferd  Average Speed   Time    Time     Time  Current\n",
            "                                 Dload  Upload   Total   Spent    Left  Speed\n",
            "  0     0    0     0    0     0      0      0 --:--:-- --:--:-- --:--:--     0\n",
            "100 10.6M  100 10.6M    0     0  5881k      0  0:00:01  0:00:01 --:--:-- 39.8M\n",
            "+ tar xvf hindi-pos-tagger-3.0.tgz\n",
            "hindi-pos-tagger-3.0/\n",
            "hindi-pos-tagger-3.0/README.md\n",
            "hindi-pos-tagger-3.0/posguidelines.pdf\n",
            "hindi-pos-tagger-3.0/version.md\n",
            "hindi-pos-tagger-3.0/Makefile\n",
            "hindi-pos-tagger-3.0/bin/\n",
            "hindi-pos-tagger-3.0/bin/unitok.py\n",
            "hindi-pos-tagger-3.0/bin/lemmatiser.py\n",
            "hindi-pos-tagger-3.0/bin/tnt\n",
            "hindi-pos-tagger-3.0/bin/normalize_bojar_lrec_2010.pyc\n",
            "hindi-pos-tagger-3.0/bin/normalize_vert.py\n",
            "hindi-pos-tagger-3.0/bin/tnt-para\n",
            "hindi-pos-tagger-3.0/bin/tag2vert.py\n",
            "hindi-pos-tagger-3.0/bin/normalize_bojar_lrec_2010.py\n",
            "hindi-pos-tagger-3.0/bin/tnt-diff\n",
            "hindi-pos-tagger-3.0/bin/tnt-wc\n",
            "hindi-pos-tagger-3.0/models/\n",
            "hindi-pos-tagger-3.0/models/modifyLex.py\n",
            "hindi-pos-tagger-3.0/models/hindi.lemma\n",
            "hindi-pos-tagger-3.0/models/hindi.123\n",
            "hindi-pos-tagger-3.0/models/hindi.lex\n",
            "hindi-pos-tagger-3.0/models/modifyLemma.py\n",
            "hindi-pos-tagger-3.0/hindi.sample.out.txt\n",
            "hindi-pos-tagger-3.0/hindi.sample.out.pdf\n",
            "hindi-pos-tagger-3.0/hindi.input.txt\n",
            "+ rm hindi-pos-tagger-3.0.tgz\n",
            "+ patch -p0\n",
            "patching file hindi-pos-tagger-3.0/bin/lemmatiser.py\n",
            "patching file hindi-pos-tagger-3.0/bin/normalize_bojar_lrec_2010.py\n",
            "patching file hindi-pos-tagger-3.0/bin/normalize_vert.py\n",
            "patching file hindi-pos-tagger-3.0/bin/tag2vert.py\n",
            "patching file hindi-pos-tagger-3.0/bin/unitok.py\n",
            "patching file hindi-pos-tagger-3.0/Makefile\n",
            "+ rm hindi-pos-tagger-3.0/hindi.input.txt\n"
          ]
        }
      ]
    },
    {
      "cell_type": "markdown",
      "metadata": {
        "id": "F8tYBkjDUCrf"
      },
      "source": [
        "You need to run these two steps after every failed run. Because we use these to track the progress."
      ]
    },
    {
      "cell_type": "code",
      "metadata": {
        "id": "9FaXkifzMqWj",
        "colab": {
          "base_uri": "https://localhost:8080/"
        },
        "outputId": "1d4c2a16-ef04-455d-fa39-ed51c3628b1c"
      },
      "source": [
        "!rm hindi.output hindi-pos-tagger-3.0/hindi.input.txt"
      ],
      "execution_count": 11,
      "outputs": [
        {
          "output_type": "stream",
          "name": "stdout",
          "text": [
            "rm: cannot remove 'hindi.output': No such file or directory\n",
            "rm: cannot remove 'hindi-pos-tagger-3.0/hindi.input.txt': No such file or directory\n"
          ]
        }
      ]
    },
    {
      "cell_type": "code",
      "metadata": {
        "id": "jgi0tMg-N7ZR"
      },
      "source": [
        "rm extracted"
      ],
      "execution_count": 12,
      "outputs": []
    },
    {
      "cell_type": "markdown",
      "metadata": {
        "id": "ySp7KaA1UUNd"
      },
      "source": [
        "This step is used to run the actual code. it might take some time to run."
      ]
    },
    {
      "cell_type": "code",
      "metadata": {
        "id": "cvALMRk-2ekD",
        "outputId": "99258f05-267f-49e4-a9e3-9dbec839c7c3",
        "colab": {
          "base_uri": "https://localhost:8080/"
        }
      },
      "source": [
        "!sudo apt-get update\n",
        "!sudo apt-get install python2\n",
        "\n",
        "!bash run_hiwiki.sh"
      ],
      "execution_count": 15,
      "outputs": [
        {
          "output_type": "stream",
          "name": "stdout",
          "text": [
            "\r0% [Working]\r            \rGet:1 https://developer.download.nvidia.com/compute/cuda/repos/ubuntu2204/x86_64  InRelease [1,581 B]\n",
            "Get:2 http://security.ubuntu.com/ubuntu jammy-security InRelease [129 kB]\n",
            "Get:3 https://developer.download.nvidia.com/compute/cuda/repos/ubuntu2204/x86_64  Packages [1,108 kB]\n",
            "Hit:4 http://archive.ubuntu.com/ubuntu jammy InRelease\n",
            "Get:5 https://r2u.stat.illinois.edu/ubuntu jammy InRelease [6,555 B]\n",
            "Get:6 http://archive.ubuntu.com/ubuntu jammy-updates InRelease [128 kB]\n",
            "Get:7 https://cloud.r-project.org/bin/linux/ubuntu jammy-cran40/ InRelease [3,626 B]\n",
            "Hit:8 https://ppa.launchpadcontent.net/deadsnakes/ppa/ubuntu jammy InRelease\n",
            "Get:9 https://r2u.stat.illinois.edu/ubuntu jammy/main amd64 Packages [2,615 kB]\n",
            "Hit:10 https://ppa.launchpadcontent.net/graphics-drivers/ppa/ubuntu jammy InRelease\n",
            "Get:11 http://security.ubuntu.com/ubuntu jammy-security/universe amd64 Packages [1,164 kB]\n",
            "Hit:12 https://ppa.launchpadcontent.net/ubuntugis/ppa/ubuntu jammy InRelease\n",
            "Get:13 http://archive.ubuntu.com/ubuntu jammy-backports InRelease [127 kB]\n",
            "Get:14 http://security.ubuntu.com/ubuntu jammy-security/main amd64 Packages [2,425 kB]\n",
            "Get:15 https://r2u.stat.illinois.edu/ubuntu jammy/main all Packages [8,477 kB]\n",
            "Get:16 http://archive.ubuntu.com/ubuntu jammy-updates/universe amd64 Packages [1,453 kB]\n",
            "Get:17 http://archive.ubuntu.com/ubuntu jammy-updates/main amd64 Packages [2,701 kB]\n",
            "Fetched 20.3 MB in 3s (6,260 kB/s)\n",
            "Reading package lists... Done\n",
            "W: Skipping acquire of configured file 'main/source/Sources' as repository 'https://r2u.stat.illinois.edu/ubuntu jammy InRelease' does not seem to provide it (sources.list entry misspelt?)\n",
            "Reading package lists... Done\n",
            "Building dependency tree... Done\n",
            "Reading state information... Done\n",
            "The following additional packages will be installed:\n",
            "  libpython2-stdlib libpython2.7-minimal libpython2.7-stdlib python2-minimal\n",
            "  python2.7 python2.7-minimal\n",
            "Suggested packages:\n",
            "  python2-doc python-tk python2.7-doc binfmt-support\n",
            "The following NEW packages will be installed:\n",
            "  libpython2-stdlib libpython2.7-minimal libpython2.7-stdlib python2\n",
            "  python2-minimal python2.7 python2.7-minimal\n",
            "0 upgraded, 7 newly installed, 0 to remove and 54 not upgraded.\n",
            "Need to get 4,007 kB of archives.\n",
            "After this operation, 16.2 MB of additional disk space will be used.\n",
            "Get:1 http://archive.ubuntu.com/ubuntu jammy-updates/universe amd64 libpython2.7-minimal amd64 2.7.18-13ubuntu1.2 [347 kB]\n",
            "Get:2 http://archive.ubuntu.com/ubuntu jammy-updates/universe amd64 python2.7-minimal amd64 2.7.18-13ubuntu1.2 [1,397 kB]\n",
            "Get:3 http://archive.ubuntu.com/ubuntu jammy/universe amd64 python2-minimal amd64 2.7.18-3 [20.8 kB]\n",
            "Get:4 http://archive.ubuntu.com/ubuntu jammy-updates/universe amd64 libpython2.7-stdlib amd64 2.7.18-13ubuntu1.2 [1,977 kB]\n",
            "Get:5 http://archive.ubuntu.com/ubuntu jammy-updates/universe amd64 python2.7 amd64 2.7.18-13ubuntu1.2 [250 kB]\n",
            "Get:6 http://archive.ubuntu.com/ubuntu jammy/universe amd64 libpython2-stdlib amd64 2.7.18-3 [7,432 B]\n",
            "Get:7 http://archive.ubuntu.com/ubuntu jammy/universe amd64 python2 amd64 2.7.18-3 [9,098 B]\n",
            "Fetched 4,007 kB in 2s (2,421 kB/s)\n",
            "debconf: unable to initialize frontend: Dialog\n",
            "debconf: (No usable dialog-like program is installed, so the dialog based frontend cannot be used. at /usr/share/perl5/Debconf/FrontEnd/Dialog.pm line 78, <> line 7.)\n",
            "debconf: falling back to frontend: Readline\n",
            "debconf: unable to initialize frontend: Readline\n",
            "debconf: (This frontend requires a controlling tty.)\n",
            "debconf: falling back to frontend: Teletype\n",
            "dpkg-preconfigure: unable to re-open stdin: \n",
            "Selecting previously unselected package libpython2.7-minimal:amd64.\n",
            "(Reading database ... 123629 files and directories currently installed.)\n",
            "Preparing to unpack .../0-libpython2.7-minimal_2.7.18-13ubuntu1.2_amd64.deb ...\n",
            "Unpacking libpython2.7-minimal:amd64 (2.7.18-13ubuntu1.2) ...\n",
            "Selecting previously unselected package python2.7-minimal.\n",
            "Preparing to unpack .../1-python2.7-minimal_2.7.18-13ubuntu1.2_amd64.deb ...\n",
            "Unpacking python2.7-minimal (2.7.18-13ubuntu1.2) ...\n",
            "Selecting previously unselected package python2-minimal.\n",
            "Preparing to unpack .../2-python2-minimal_2.7.18-3_amd64.deb ...\n",
            "Unpacking python2-minimal (2.7.18-3) ...\n",
            "Selecting previously unselected package libpython2.7-stdlib:amd64.\n",
            "Preparing to unpack .../3-libpython2.7-stdlib_2.7.18-13ubuntu1.2_amd64.deb ...\n",
            "Unpacking libpython2.7-stdlib:amd64 (2.7.18-13ubuntu1.2) ...\n",
            "Selecting previously unselected package python2.7.\n",
            "Preparing to unpack .../4-python2.7_2.7.18-13ubuntu1.2_amd64.deb ...\n",
            "Unpacking python2.7 (2.7.18-13ubuntu1.2) ...\n",
            "Selecting previously unselected package libpython2-stdlib:amd64.\n",
            "Preparing to unpack .../5-libpython2-stdlib_2.7.18-3_amd64.deb ...\n",
            "Unpacking libpython2-stdlib:amd64 (2.7.18-3) ...\n",
            "Setting up libpython2.7-minimal:amd64 (2.7.18-13ubuntu1.2) ...\n",
            "Setting up python2.7-minimal (2.7.18-13ubuntu1.2) ...\n",
            "Linking and byte-compiling packages for runtime python2.7...\n",
            "Setting up python2-minimal (2.7.18-3) ...\n",
            "Selecting previously unselected package python2.\n",
            "(Reading database ... 124372 files and directories currently installed.)\n",
            "Preparing to unpack .../python2_2.7.18-3_amd64.deb ...\n",
            "Unpacking python2 (2.7.18-3) ...\n",
            "Setting up libpython2.7-stdlib:amd64 (2.7.18-13ubuntu1.2) ...\n",
            "Setting up python2.7 (2.7.18-13ubuntu1.2) ...\n",
            "Setting up libpython2-stdlib:amd64 (2.7.18-3) ...\n",
            "Setting up python2 (2.7.18-3) ...\n",
            "Processing triggers for man-db (2.10.2-1) ...\n",
            "+ SEED=42\n",
            "+ OUTPUT_SENT=1000000\n",
            "+ HIWIKI_FILE=hiwiki-pages-meta-current.xml\n",
            "+ EXTRACTED_FILE=extracted\n",
            "+ EXTRACT_TEXT='python3 WikiExtractor.py --quiet --no_templates --filter_disambig_pages   --min_text_length 20   $HIWIKI_FILE -b 5G -o -'\n",
            "+ TOKENIZE_SENTENCE='python3 indic_sentence_tokenizer.py'\n",
            "+ SELECT_RANDOM_SENTENCE='shuf -n $OUTPUT_SENT --random-source=<(get_seeded_random $SEED)'\n",
            "+ INSERT_ERRORS='python3 insert_errors.py hindi.output  --single --edits'\n",
            "+ '[' '!' -f extracted ']'\n",
            "+ '[' -f extracted ']'\n",
            "+ '[' '!' -f hindi-pos-tagger-3.0/hindi.input.txt ']'\n",
            "+ '[' -f hindi-pos-tagger-3.0/hindi.input.txt ']'\n",
            "+ '[' '!' -f hindi.output ']'\n",
            "+ cd hindi-pos-tagger-3.0\n",
            "+ make tag\n",
            "chmod +x bin/*\n",
            "cat hindi.input.txt | python2 bin/unitok.py -l hindi -n | sed -e 's/^\\.$/.\\n<\\/s>\\n<s>/g' |  python2 bin/normalize_vert.py  > hindi.tmp.words\n",
            "./bin/tnt -v0 -H models/hindi   hindi.tmp.words | sed -e 's/\\t\\+/\\t/g' | python2 ./bin/lemmatiser.py models/hindi.lemma | python2 bin/tag2vert.py > hindi.output\n",
            "rm hindi.tmp.words\n",
            "echo \"Output stored in hindi.output\"\n",
            "Output stored in hindi.output\n",
            "+ wc -l hindi.output\n",
            "18268378 hindi.output\n",
            "+ cd ..\n",
            "+ mv hindi-pos-tagger-3.0/hindi.output hindi.output\n",
            "+ eval 'python3 insert_errors.py hindi.output  --single --edits>hiwiki.augmented.edits'\n",
            "++ python3 insert_errors.py hindi.output --single --edits\n"
          ]
        }
      ]
    },
    {
      "cell_type": "markdown",
      "metadata": {
        "id": "rtn79-wAUhDV"
      },
      "source": [
        "A sample of the generated sentences"
      ]
    },
    {
      "cell_type": "code",
      "metadata": {
        "id": "cAa6n5YvTBp2",
        "outputId": "d84aa732-ac48-4f07-f93b-3257d0394e60",
        "colab": {
          "base_uri": "https://localhost:8080/"
        }
      },
      "source": [
        "!head -4000 hiwiki.augmented.edits|python scripts/convert_to_wdiff.py|shuf -n 40"
      ],
      "execution_count": 16,
      "outputs": [
        {
          "output_type": "stream",
          "name": "stdout",
          "text": [
            "इसका निक्षेप भाभर की तुलना में अधिक महीन कणों [-की-] {+का+} है .\n",
            "ज़ी 5 [-का-] {+के+} साथ एक साक्षात्कार में .\n",
            "बाउल के [-की-] {+के+} बारे में कहते हैं कि यह गति में ध्यान की साधना है .\n",
            "एक हमलावर शिकार [-की-] {+के+} खिलाफ विश्वसनीय वेबसाइट की अपनी लिपियों में भी खामियों का इस्तेमाल कर सकता है .\n",
            "मैं [-अपना-] {+अपनी+} धन सम्पत्ति के अनुसार आपकी पूजा करूगा .\n",
            "जैसे [-के-] {+की+} नीचे चर्चा की गई है .\n",
            "पाटा शब्द ' पट्टाना ' के अंतिम परिशिष्ट का संक्षिप्त नाम [-हैं-] {+है+} , जिसका अर्थ संस्कृत भाषा में एक राजधानी है .\n",
            "जनसांख्यिकीक रूप से , यहां , इस्लाम के अनुयाई , आबादी [-की-] {+के+} औसतन ९१ के करीब है .\n",
            "कम्प्यूटिंग विज्ञान मे जो तरीकों का इस्तेमाल किया जा रहा [-हैं-] {+है+} वो है .\n",
            "अवेंजर्स दो भागों में बंट जाते हैं जो लोकी के साथ किस प्रकार निपटा जाए इसपर अपने मतभेद सामने [-रखती-] {+रखते+} हैं .\n",
            "इसपर 2003 में एक हॉलिवुड फ़िल्म भी बनी [-हैं-] {+है+} जिसने कई ऑस्कर भी जीते .\n",
            "वे कई बार लोकसभा और राज्यसभा [-की-] {+के+} सदस्य रहे .\n",
            "कम्पनी ने यशराज बैनर के साथ एक समझौता कर लिया [-हैं-] {+है+} .\n",
            "ऐसा इसलिए है क्योंकि वे पहले सूर्य मंदिरों [-की-] {+के+} पुजारी होते थे .\n",
            "उदाहरण के लिए \" प \" एक अघोष ध्वनि [-हैं-] {+है+} जबकि \" ब \" एक घोष ध्वनि है .\n",
            "युद्ध समाप्त होने पर जब दशरथ को इस बात का पता लंगा , तो प्रसन्न होकर कैकेई को दो वर मांगने के लिए [-कहे-] {+कहा+} .\n",
            "इस बढ़ोतरी में कंज्यूमर ड्यूरेबल और कैपिटल गुड्स क्षेत्रों [-की-] {+का+} योगदान रहा है .\n",
            "' सांख्य ' [-के-] {+का+} शाब्दिक अर्थ है ' संख्या सम्बंधी ' या विश्लेषण .\n",
            "हैफ़ीस्टस ( अंग्रेज़ी , यूनानी \" हैफाइस्तोस \" ) प्राचीन यूनानी धर्म के प्रमुख देवताओं में से एक [-था-] {+थे+} .\n",
            "उनकी पार्टी ने जेएनयू से जुड़े विडियो से छेड़छाड़ करने का काम किया ऐसा ऊजागर [-हुईं-] {+हुआ+} .\n",
            "इस तरह [-के-] {+का+} चोट शायद ही कभी धमनीविस्फार ( ऐन्यूरिज्म ) ( रक्त वाहिनी का बहिर्वलन ) द्वारा .\n",
            "वर्ष 2009 में यह रिश्ता क्या कहलाता है में मुख्य किरदार नैतिक सिंघानिया [-की-] {+के+} रूप में जुड़े .\n",
            "पहले मैच से एक दिन पहले , हैमिल्टन मसाकाजा को जिम्बाब्वे [-का-] {+के+} कप्तान के रूप में नामित किया गया था .\n",
            "डॉ भाण्डारकर का भी यही विचार है कि धर्मसूत्रों की रचना के पश्चात ही अनुष्टुप छन्द वाले धर्मशास्त्रों की रचना की [-गया-] {+गयी+} .\n",
            "किस गुरू से यह उत्तम सिद्धि पाये [-हैं-] {+है+} .\n",
            "लोककथाओं के अनुसार , पेटुनिया सिर्फ वहां ही फलता है जहां सकारात्मक ऊर्जा होती [-हैं-] {+है+} , नकारात्मकता ऊर्जा में यह नहीं पनपता .\n",
            "इस जनजाति में चार विभाजन [-होती-] {+होते+} हैं अल हुमायदाह , अल मुसा इब्न अली , अल इस्बा ' और अल जिबाली .\n",
            "नरूला इंस्टीट्यूट ऑफ़ टेकनोलॉजी पश्चिम बंगाल , भारत में एक स्वायत्त निजी इंजीनियरी महाविद्यालय [-हैं-] {+है+} , जो कोलकाता के अगरपारा में स्थित है .\n",
            "मुज्जफरनगर में हुए दंगों में आरोपी स्थानीय विधायक संगीत सोम की गिरफ्तारी के विरोध में २९ सितम्बर २०१३ को महापंचायत का आयोजन किया [-गई-] {+गया+} .\n",
            "इसके निर्माण की घोषणा फरवरी 2022 में 61 ( अजित [-के-] {+की+} 61 वीं प्रमुख भूमिका वाली फिल्म ) के रूप में की गई थी .\n",
            "इसी से सोसाइटी [-के-] {+की+} इस बाबत गंभीरता को समझा जा सकता है .\n",
            "26 अप्रैल 2021 को हृदयगति रुक [-जाना-] {+जाने+} के कारण उनका निधन हो गया .\n",
            "मुज्जफरनगर में [-हुई-] {+हुए+} दंगों में आरोपी स्थानीय विधायक संगीत सोम की गिरफ्तारी के विरोध में २९ सितम्बर २०१३ को महापंचायत का आयोजन किया गया .\n",
            "सूअर पालन का मुख्य उद्देश्य मांस , चमड़ा , और दूध [-की-] {+के+} उत्पादन करना होता है , जिन्हें बाजार में बेचा जा सकता है .\n",
            "यह मेखला वस्तुत एक पूर्ण चक्र का अंग हैं जिसका क्षितिज के नीचे [-की-] {+का+} भाग नहीं दिखाई पड़ता .\n",
            "सार्स कोरोनावाइरस , एडीनोवाइरस , हैंटावाइरस , पैराइन्फ्लुएंज़ा या एच 1 एन 1 वाइरस [-का-] {+के+} द्वारा हुए निमोनिया के लिए कोई ज्ञात प्रभावशाली उपचार उपलब्ध नहीं है .\n",
            "हम अब और मरना नहीं [-चाहता-] {+चाहते+} .\n",
            "[-पहले-] {+पहला+} वर्ग \" उच्चभूमि \" वालों का है जो माडागास्कर द्वीप के बीच के पहाड़ी व पठारी क्षेत्रों में बसते हैं .\n",
            "उन्होंने श्री टी एस हरिहरन से शादी की , जो कि एक सेवानिवृत्त बैंक अधिकारी हैं और उनके दो बच्चे [-है-] {+हैं+} .\n",
            "इसके कामकाज का संचालन कैनोनिकल करती है जो इसी [-का-] {+के+} तरह के और प्रचालन तंत्र बनाती है जैसे कुबुंटू इत्यादि .\n"
          ]
        }
      ]
    },
    {
      "cell_type": "markdown",
      "metadata": {
        "id": "JWSkGnRRUewR"
      },
      "source": [
        "This is the output file"
      ]
    },
    {
      "cell_type": "code",
      "metadata": {
        "id": "JJ1jg99T1QDC",
        "outputId": "60a9b10d-cc78-4d42-e8e1-b0be6294bf4a",
        "colab": {
          "base_uri": "https://localhost:8080/"
        }
      },
      "source": [
        "!wc hiwiki.augmented.edits"
      ],
      "execution_count": 17,
      "outputs": [
        {
          "output_type": "stream",
          "name": "stdout",
          "text": [
            "   7825053   92260094 1128472606 hiwiki.augmented.edits\n"
          ]
        }
      ]
    },
    {
      "cell_type": "code",
      "metadata": {
        "id": "UBXsdYokULAT",
        "outputId": "f3d4228b-9aff-4bb8-8284-35103e007874",
        "colab": {
          "base_uri": "https://localhost:8080/"
        }
      },
      "source": [
        "total=7778655;\n",
        "if total%3 :raise Exception(\"check the augmented file\")\n",
        "total_edits=total//3\n",
        "train=int(total_edits*.8)*3\n",
        "val = total - train\n",
        "tmp3=train+val\n",
        "print(train,val)"
      ],
      "execution_count": 18,
      "outputs": [
        {
          "output_type": "stream",
          "name": "stdout",
          "text": [
            "6222924 1555731\n"
          ]
        }
      ]
    },
    {
      "cell_type": "code",
      "metadata": {
        "id": "vkIscCRHUQf7"
      },
      "source": [
        "!head -$tmp3 hiwiki.augmented.edits>train\n",
        "!tail -$val hiwiki.augmented.edits>val\n",
        "!mkdir -p data"
      ],
      "execution_count": 19,
      "outputs": []
    },
    {
      "cell_type": "code",
      "metadata": {
        "id": "nlYTgJvgURMV"
      },
      "source": [
        "def convert_to_srctrg(inp, src, trg):\n",
        "    bad_words = ('### comment:', '### contributor:', '### id:', '### page:', '### timestamp:', '###')\n",
        "    i = 0\n",
        "    for line in inp:\n",
        "        if line.isspace():\n",
        "            continue\n",
        "        if line.startswith(bad_words, 0):\n",
        "            continue\n",
        "        if i % 2 == 0:\n",
        "            src.write(line)\n",
        "        else:\n",
        "            trg.write(line)\n",
        "        i = i + 1\n",
        "\n",
        "\n",
        "convert_to_srctrg(open('train'), open('data/train_merge.src','w'), open('data/train_merge.tgt','w'))\n",
        "convert_to_srctrg(open('val'), open('data/valid.src','w'), open('data/valid.tgt','w'))"
      ],
      "execution_count": 20,
      "outputs": []
    },
    {
      "cell_type": "code",
      "metadata": {
        "id": "OWdA1YZKUUn_"
      },
      "source": [
        "!rm train val\n",
        "!bash shuffle.sh data/train_merge 42\n",
        "!bash shuffle.sh data/valid 42"
      ],
      "execution_count": 21,
      "outputs": []
    },
    {
      "cell_type": "code",
      "metadata": {
        "id": "3HWa9h9UrLOI",
        "outputId": "7370a7a0-c351-4e73-884c-a681264e47bd",
        "colab": {
          "base_uri": "https://localhost:8080/"
        }
      },
      "source": [
        "!wc data/*"
      ],
      "execution_count": 22,
      "outputs": [
        {
          "output_type": "stream",
          "name": "stdout",
          "text": [
            "   2592885   45858466  559865592 data/train_merge.src\n",
            "   2592885   45858466  559357008 data/train_merge.tgt\n",
            "    518577    9171156  111983401 data/valid.src\n",
            "    518577    9171156  111882169 data/valid.tgt\n",
            "   6222924  110059244 1343088170 total\n"
          ]
        }
      ]
    },
    {
      "cell_type": "code",
      "metadata": {
        "id": "RBDMcwcgMBWq"
      },
      "source": [
        "mv data ../data"
      ],
      "execution_count": 23,
      "outputs": []
    }
  ]
}