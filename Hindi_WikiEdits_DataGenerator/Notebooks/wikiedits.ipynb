{
  "nbformat": 4,
  "nbformat_minor": 0,
  "metadata": {
    "colab": {
      "provenance": []
    },
    "kernelspec": {
      "name": "python3",
      "display_name": "Python 3"
    }
  },
  "cells": [
    {
      "cell_type": "code",
      "metadata": {
        "id": "KV8wnJ0t53JG",
        "outputId": "6f07712e-3842-46a5-b327-9a3ac72f28ec",
        "colab": {
          "base_uri": "https://localhost:8080/"
        }
      },
      "source": [
        "!git clone https://github.com/s-ankur/wikiedits\n",
        "%cd wikiedits\n",
        "%mkdir -p ../data"
      ],
      "execution_count": null,
      "outputs": [
        {
          "output_type": "stream",
          "name": "stdout",
          "text": [
            "Cloning into 'wikiedits'...\n",
            "remote: Enumerating objects: 313, done.\u001b[K\n",
            "remote: Counting objects: 100% (313/313), done.\u001b[K\n",
            "remote: Compressing objects: 100% (130/130), done.\u001b[K\n",
            "remote: Total 313 (delta 194), reused 270 (delta 181), pack-reused 0 (from 0)\u001b[K\n",
            "Receiving objects: 100% (313/313), 385.75 KiB | 1.35 MiB/s, done.\n",
            "Resolving deltas: 100% (194/194), done.\n",
            "/content/wikiedits\n"
          ]
        }
      ]
    },
    {
      "cell_type": "markdown",
      "metadata": {
        "id": "cj5BaMx2mvaB"
      },
      "source": [
        "This is the setup for the project. You need only run this once\n"
      ]
    },
    {
      "cell_type": "code",
      "metadata": {
        "id": "IO2GyILdW26X",
        "outputId": "a3bf809f-4d79-4d05-dfa2-11cf8f639194",
        "colab": {
          "base_uri": "https://localhost:8080/"
        }
      },
      "source": [
        "!sudo make setup"
      ],
      "execution_count": null,
      "outputs": [
        {
          "output_type": "stream",
          "name": "stdout",
          "text": [
            "pip3 install -r requirements.txt\n",
            "Requirement already satisfied: nltk in /usr/local/lib/python3.10/dist-packages (from -r requirements.txt (line 1)) (3.9.1)\n",
            "Requirement already satisfied: tqdm in /usr/local/lib/python3.10/dist-packages (from -r requirements.txt (line 2)) (4.66.6)\n",
            "Requirement already satisfied: lxml in /usr/local/lib/python3.10/dist-packages (from -r requirements.txt (line 3)) (5.3.0)\n",
            "Requirement already satisfied: more_itertools in /usr/local/lib/python3.10/dist-packages (from -r requirements.txt (line 4)) (10.5.0)\n",
            "Collecting python_Levenshtein (from -r requirements.txt (line 5))\n",
            "  Downloading python_Levenshtein-0.26.1-py3-none-any.whl.metadata (3.7 kB)\n",
            "Requirement already satisfied: PyYAML in /usr/local/lib/python3.10/dist-packages (from -r requirements.txt (line 6)) (6.0.2)\n",
            "Requirement already satisfied: click in /usr/local/lib/python3.10/dist-packages (from nltk->-r requirements.txt (line 1)) (8.1.7)\n",
            "Requirement already satisfied: joblib in /usr/local/lib/python3.10/dist-packages (from nltk->-r requirements.txt (line 1)) (1.4.2)\n",
            "Requirement already satisfied: regex>=2021.8.3 in /usr/local/lib/python3.10/dist-packages (from nltk->-r requirements.txt (line 1)) (2024.9.11)\n",
            "Collecting Levenshtein==0.26.1 (from python_Levenshtein->-r requirements.txt (line 5))\n",
            "  Downloading levenshtein-0.26.1-cp310-cp310-manylinux_2_17_x86_64.manylinux2014_x86_64.whl.metadata (3.2 kB)\n",
            "Collecting rapidfuzz<4.0.0,>=3.9.0 (from Levenshtein==0.26.1->python_Levenshtein->-r requirements.txt (line 5))\n",
            "  Downloading rapidfuzz-3.10.1-cp310-cp310-manylinux_2_17_x86_64.manylinux2014_x86_64.whl.metadata (11 kB)\n",
            "Downloading python_Levenshtein-0.26.1-py3-none-any.whl (9.4 kB)\n",
            "Downloading levenshtein-0.26.1-cp310-cp310-manylinux_2_17_x86_64.manylinux2014_x86_64.whl (162 kB)\n",
            "\u001b[2K   \u001b[90m━━━━━━━━━━━━━━━━━━━━━━━━━━━━━━━━━━━━━━━━\u001b[0m \u001b[32m162.6/162.6 kB\u001b[0m \u001b[31m3.5 MB/s\u001b[0m eta \u001b[36m0:00:00\u001b[0m\n",
            "\u001b[?25hDownloading rapidfuzz-3.10.1-cp310-cp310-manylinux_2_17_x86_64.manylinux2014_x86_64.whl (3.1 MB)\n",
            "\u001b[2K   \u001b[90m━━━━━━━━━━━━━━━━━━━━━━━━━━━━━━━━━━━━━━━━\u001b[0m \u001b[32m3.1/3.1 MB\u001b[0m \u001b[31m36.1 MB/s\u001b[0m eta \u001b[36m0:00:00\u001b[0m\n",
            "\u001b[?25hInstalling collected packages: rapidfuzz, Levenshtein, python_Levenshtein\n",
            "Successfully installed Levenshtein-0.26.1 python_Levenshtein-0.26.1 rapidfuzz-3.10.1\n"
          ]
        }
      ]
    },
    {
      "cell_type": "markdown",
      "metadata": {
        "id": "nnm0VQVEOQiW"
      },
      "source": [
        "You may need to update this link to something more recent, since it is deleted after a while.  Choose latest dump in https://dumps.wikimedia.org/hiwiki and find the hiwiki-<date>-pages-meta-history.xml.7z link"
      ]
    },
    {
      "cell_type": "markdown",
      "metadata": {
        "id": "37AelWTOm_a0"
      },
      "source": [
        "This launches the wiki extraction process in the background\n",
        "You can skip n number of revisions using the skip revisions flag. this is important if the process dies or errors out in the middle. You can just continue from where you stopped by reading the log\n"
      ]
    },
    {
      "cell_type": "code",
      "metadata": {
        "id": "WNsnid4hpiiY"
      },
      "source": [
        "!nohup python3 wiki_edits.py \"https://dumps.wikimedia.org/hiwiki/20240620/hiwiki-20240620-pages-meta-current.xml.bz2\" hiwiki.extracted.edits --skip-revision 1130000 -l  hindi --length-diff 0  &> tmp.log &"
      ],
      "execution_count": 5,
      "outputs": []
    },
    {
      "cell_type": "code",
      "metadata": {
        "id": "A3XUNDr2Se8g",
        "outputId": "42a82637-bdd2-4d21-eebe-9bb06574208d",
        "colab": {
          "base_uri": "https://localhost:8080/"
        }
      },
      "source": [
        "!tail tmp.log"
      ],
      "execution_count": 6,
      "outputs": [
        {
          "output_type": "stream",
          "name": "stdout",
          "text": [
            "  5750K .......... .......... .......... .......... ..........  1% 1.32M 99s\n",
            "  5800K .......... .......... .......... .......... ..........  1% 3.24M 99s\n",
            "  5850K .......... .......... .......... .......... ..........  1% 3.22M 99s\n",
            "  5900K .......... .......... .......... .......... ..........  1%  234M 98s\n",
            "  5950K .......... .......... .......... .......... ..........  1% 3.25M 98s\n",
            "  6000K .......... .......... .......... .......... ..........  1% 4.26M 98s\n",
            "  6050K .......... .......... .......... .......... ..........  1% 4.00M 97s\n",
            "  6100K .......... .......... .......... .......... ..........  1% 4.30M 97s\n",
            "  6150K .......... .......... .......... .......... ..........  1% 80.1M 96s\n",
            "  6200K ......."
          ]
        }
      ]
    },
    {
      "cell_type": "code",
      "metadata": {
        "id": "FwjRQZ4OFdTv"
      },
      "source": [
        "!head hiwiki.extracted.edits"
      ],
      "execution_count": 7,
      "outputs": []
    },
    {
      "cell_type": "code",
      "metadata": {
        "id": "B75GqHG9mvko",
        "outputId": "5f9dc283-191e-464b-e8cf-77565297dbff",
        "colab": {
          "base_uri": "https://localhost:8080/"
        }
      },
      "source": [
        "!7za e -so hiwiki-20240620-pages-meta-current.xml.bz2 |grep -c \"<revision>\""
      ],
      "execution_count": 10,
      "outputs": [
        {
          "output_type": "stream",
          "name": "stdout",
          "text": [
            "1324483\n"
          ]
        }
      ]
    },
    {
      "cell_type": "code",
      "metadata": {
        "id": "AnA8gWyTvDys"
      },
      "source": [
        "!python filter_punct.py<hiwiki.extracted.edits>hiwiki.extracted.clean.edits"
      ],
      "execution_count": 11,
      "outputs": []
    },
    {
      "cell_type": "code",
      "metadata": {
        "id": "Y4iJnbzMu8iA",
        "outputId": "caa5718b-6da1-4ee3-b5f2-93850600571c",
        "colab": {
          "base_uri": "https://localhost:8080/"
        }
      },
      "source": [
        "!wc -l  hiwiki.extracted.edits hiwiki.extracted.clean.edits\n",
        "!head -4000 hiwiki.extracted.clean.edits|python scripts/convert_to_wdiff.py|shuf -n 40"
      ],
      "execution_count": 12,
      "outputs": [
        {
          "output_type": "stream",
          "name": "stdout",
          "text": [
            "0 hiwiki.extracted.edits\n",
            "0 hiwiki.extracted.clean.edits\n",
            "0 total\n"
          ]
        }
      ]
    },
    {
      "cell_type": "code",
      "metadata": {
        "id": "Tf-vMs7Q60Iq"
      },
      "source": [
        "!python scripts/convert_to_srctrg.py hiwiki.extracted.clean.edits\n",
        "!python scripts/convert_to_wdiff.py<hiwiki.extracted.clean.edits>hiwiki.extracted.clean.wdiff\n",
        "%mv hiwiki.extracted* ../data/"
      ],
      "execution_count": 13,
      "outputs": []
    }
  ]
}