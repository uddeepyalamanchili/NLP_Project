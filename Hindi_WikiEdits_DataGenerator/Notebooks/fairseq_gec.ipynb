{
  "nbformat": 4,
  "nbformat_minor": 0,
  "metadata": {
    "colab": {
      "provenance": []
    },
    "kernelspec": {
      "name": "python3",
      "display_name": "Python 3"
    },
    "accelerator": "GPU"
  },
  "cells": [
    {
      "cell_type": "code",
      "metadata": {
        "id": "j2wKM_JmPcBS",
        "colab": {
          "base_uri": "https://localhost:8080/"
        },
        "outputId": "6d5a0e36-ee59-491d-ada0-960263863010"
      },
      "source": [
        "### Setup commands\n",
        "!git clone https://github.com/s-ankur/fairseq-gec\n",
        "%cd fairseq-gec\n",
        "!pip install -e .\n",
        "!sudo apt-get install libgoogle-perftools-dev libsparsehash-dev\n",
        "%mkdir -p software/\n",
        "%cd software\n",
        "\n",
        "%cd mosesdecoder\n",
        "!bash bjam -j4\n",
        "%cd ..\n",
        "\n",
        "!git clone https://github.com/clab/fast_align\n",
        "%cd fast_align/\n",
        "!mkdir -p build\n",
        "%cd build\n",
        "!cmake ..\n",
        "!make\n",
        "%cd ../..\n",
        "\n",
        "!chmod +x fast_align/build/fast_align mosesdecoder/scripts/ems/support/symmetrize-fast-align.perl\n",
        "!chmod +x mosesdecoder/bin/*\n",
        "%cd .."
      ],
      "execution_count": null,
      "outputs": [
        {
          "output_type": "stream",
          "name": "stdout",
          "text": [
            "Cloning into 'fairseq-gec'...\n",
            "remote: Enumerating objects: 281, done.\u001b[K\n",
            "remote: Counting objects: 100% (281/281), done.\u001b[K\n",
            "remote: Compressing objects: 100% (190/190), done.\u001b[K\n",
            "remote: Total 281 (delta 80), reused 263 (delta 70), pack-reused 0 (from 0)\u001b[K\n",
            "Receiving objects: 100% (281/281), 2.78 MiB | 5.78 MiB/s, done.\n",
            "Resolving deltas: 100% (80/80), done.\n",
            "/content/fairseq-gec\n",
            "Obtaining file:///content/fairseq-gec\n",
            "  Preparing metadata (setup.py) ... \u001b[?25l\u001b[?25hdone\n",
            "Requirement already satisfied: cffi in /usr/local/lib/python3.10/dist-packages (from fairseq==0.6.1) (1.17.1)\n",
            "Requirement already satisfied: numpy in /usr/local/lib/python3.10/dist-packages (from fairseq==0.6.1) (1.26.4)\n",
            "Collecting sacrebleu (from fairseq==0.6.1)\n",
            "  Downloading sacrebleu-2.4.3-py3-none-any.whl.metadata (51 kB)\n",
            "\u001b[2K     \u001b[90m━━━━━━━━━━━━━━━━━━━━━━━━━━━━━━━━━━━━━━━━\u001b[0m \u001b[32m51.8/51.8 kB\u001b[0m \u001b[31m2.7 MB/s\u001b[0m eta \u001b[36m0:00:00\u001b[0m\n",
            "\u001b[?25hRequirement already satisfied: tqdm in /usr/local/lib/python3.10/dist-packages (from fairseq==0.6.1) (4.66.6)\n",
            "Requirement already satisfied: pycparser in /usr/local/lib/python3.10/dist-packages (from cffi->fairseq==0.6.1) (2.22)\n",
            "Collecting portalocker (from sacrebleu->fairseq==0.6.1)\n",
            "  Downloading portalocker-2.10.1-py3-none-any.whl.metadata (8.5 kB)\n",
            "Requirement already satisfied: regex in /usr/local/lib/python3.10/dist-packages (from sacrebleu->fairseq==0.6.1) (2024.9.11)\n",
            "Requirement already satisfied: tabulate>=0.8.9 in /usr/local/lib/python3.10/dist-packages (from sacrebleu->fairseq==0.6.1) (0.9.0)\n",
            "Collecting colorama (from sacrebleu->fairseq==0.6.1)\n",
            "  Downloading colorama-0.4.6-py2.py3-none-any.whl.metadata (17 kB)\n",
            "Requirement already satisfied: lxml in /usr/local/lib/python3.10/dist-packages (from sacrebleu->fairseq==0.6.1) (5.3.0)\n",
            "Downloading sacrebleu-2.4.3-py3-none-any.whl (103 kB)\n",
            "\u001b[2K   \u001b[90m━━━━━━━━━━━━━━━━━━━━━━━━━━━━━━━━━━━━━━━━\u001b[0m \u001b[32m104.0/104.0 kB\u001b[0m \u001b[31m7.9 MB/s\u001b[0m eta \u001b[36m0:00:00\u001b[0m\n",
            "\u001b[?25hDownloading colorama-0.4.6-py2.py3-none-any.whl (25 kB)\n",
            "Downloading portalocker-2.10.1-py3-none-any.whl (18 kB)\n",
            "Installing collected packages: portalocker, colorama, sacrebleu, fairseq\n",
            "  Running setup.py develop for fairseq\n",
            "Successfully installed colorama-0.4.6 fairseq-0.6.1 portalocker-2.10.1 sacrebleu-2.4.3\n",
            "Reading package lists... Done\n",
            "Building dependency tree... Done\n",
            "Reading state information... Done\n",
            "The following additional packages will be installed:\n",
            "  libunwind-dev\n",
            "The following NEW packages will be installed:\n",
            "  libgoogle-perftools-dev libsparsehash-dev libunwind-dev\n",
            "0 upgraded, 3 newly installed, 0 to remove and 49 not upgraded.\n",
            "Need to get 2,424 kB of archives.\n",
            "After this operation, 10.4 MB of additional disk space will be used.\n",
            "Get:1 http://archive.ubuntu.com/ubuntu jammy-updates/main amd64 libunwind-dev amd64 1.3.2-2build2.1 [1,883 kB]\n",
            "Get:2 http://archive.ubuntu.com/ubuntu jammy/main amd64 libgoogle-perftools-dev amd64 2.9.1-0ubuntu3 [470 kB]\n",
            "Get:3 http://archive.ubuntu.com/ubuntu jammy/universe amd64 libsparsehash-dev all 2.0.3-2 [71.7 kB]\n",
            "Fetched 2,424 kB in 3s (705 kB/s)\n",
            "debconf: unable to initialize frontend: Dialog\n",
            "debconf: (No usable dialog-like program is installed, so the dialog based frontend cannot be used. at /usr/share/perl5/Debconf/FrontEnd/Dialog.pm line 78, <> line 3.)\n",
            "debconf: falling back to frontend: Readline\n",
            "debconf: unable to initialize frontend: Readline\n",
            "debconf: (This frontend requires a controlling tty.)\n",
            "debconf: falling back to frontend: Teletype\n",
            "dpkg-preconfigure: unable to re-open stdin: \n",
            "Selecting previously unselected package libunwind-dev:amd64.\n",
            "(Reading database ... 123629 files and directories currently installed.)\n",
            "Preparing to unpack .../libunwind-dev_1.3.2-2build2.1_amd64.deb ...\n",
            "Unpacking libunwind-dev:amd64 (1.3.2-2build2.1) ...\n",
            "Selecting previously unselected package libgoogle-perftools-dev:amd64.\n",
            "Preparing to unpack .../libgoogle-perftools-dev_2.9.1-0ubuntu3_amd64.deb ...\n",
            "Unpacking libgoogle-perftools-dev:amd64 (2.9.1-0ubuntu3) ...\n",
            "Selecting previously unselected package libsparsehash-dev.\n",
            "Preparing to unpack .../libsparsehash-dev_2.0.3-2_all.deb ...\n",
            "Unpacking libsparsehash-dev (2.0.3-2) ...\n",
            "Setting up libunwind-dev:amd64 (1.3.2-2build2.1) ...\n",
            "Setting up libgoogle-perftools-dev:amd64 (2.9.1-0ubuntu3) ...\n",
            "Setting up libsparsehash-dev (2.0.3-2) ...\n",
            "Processing triggers for man-db (2.10.2-1) ...\n",
            "/content/fairseq-gec/software\n",
            "[Errno 2] No such file or directory: 'mosesdecoder'\n",
            "/content/fairseq-gec/software\n",
            "/usr/bin/bjam: /usr/bin/bjam: cannot execute binary file\n",
            "/content/fairseq-gec\n",
            "Cloning into 'fast_align'...\n",
            "remote: Enumerating objects: 213, done.\u001b[K\n",
            "remote: Counting objects: 100% (9/9), done.\u001b[K\n",
            "remote: Compressing objects: 100% (7/7), done.\u001b[K\n",
            "remote: Total 213 (delta 2), reused 4 (delta 2), pack-reused 204 (from 1)\u001b[K\n",
            "Receiving objects: 100% (213/213), 70.68 KiB | 618.00 KiB/s, done.\n",
            "Resolving deltas: 100% (110/110), done.\n",
            "/content/fairseq-gec/fast_align\n",
            "/content/fairseq-gec/fast_align/build\n",
            "\u001b[33mCMake Warning (dev) at CMakeLists.txt:1 (project):\n",
            "  cmake_minimum_required() should be called prior to this top-level project()\n",
            "  call.  Please see the cmake-commands(7) manual for usage documentation of\n",
            "  both commands.\n",
            "This warning is for project developers.  Use -Wno-dev to suppress it.\n",
            "\u001b[0m\n",
            "-- The C compiler identification is GNU 11.4.0\n",
            "-- The CXX compiler identification is GNU 11.4.0\n",
            "-- Detecting C compiler ABI info\n",
            "-- Detecting C compiler ABI info - done\n",
            "-- Check for working C compiler: /usr/bin/cc - skipped\n",
            "-- Detecting C compile features\n",
            "-- Detecting C compile features - done\n",
            "-- Detecting CXX compiler ABI info\n",
            "-- Detecting CXX compiler ABI info - done\n",
            "-- Check for working CXX compiler: /usr/bin/c++ - skipped\n",
            "-- Detecting CXX compile features\n",
            "-- Detecting CXX compile features - done\n",
            "\u001b[0mCMake Deprecation Warning at CMakeLists.txt:2 (cmake_minimum_required):\n",
            "  Compatibility with CMake < 3.5 will be removed from a future version of\n",
            "  CMake.\n",
            "\n",
            "  Update the VERSION argument <min> value or use a ...<max> suffix to tell\n",
            "  CMake that the project does not need compatibility with older versions.\n",
            "\n",
            "\u001b[0m\n",
            "-- Found SparseHash: /usr/include\n",
            "-- Configuring done (1.0s)\n",
            "-- Generating done (0.0s)\n",
            "-- Build files have been written to: /content/fairseq-gec/fast_align/build\n",
            "[ 16%] \u001b[32mBuilding CXX object CMakeFiles/fast_align.dir/src/fast_align.cc.o\u001b[0m\n",
            "[ 33%] \u001b[32mBuilding CXX object CMakeFiles/fast_align.dir/src/ttables.cc.o\u001b[0m\n",
            "[ 50%] \u001b[32m\u001b[1mLinking CXX executable fast_align\u001b[0m\n",
            "[ 50%] Built target fast_align\n",
            "[ 66%] \u001b[32mBuilding CXX object CMakeFiles/atools.dir/src/alignment_io.cc.o\u001b[0m\n",
            "[ 83%] \u001b[32mBuilding CXX object CMakeFiles/atools.dir/src/atools.cc.o\u001b[0m\n",
            "[100%] \u001b[32m\u001b[1mLinking CXX executable atools\u001b[0m\n",
            "[100%] Built target atools\n",
            "/content/fairseq-gec\n",
            "chmod: cannot access 'mosesdecoder/scripts/ems/support/symmetrize-fast-align.perl': No such file or directory\n",
            "chmod: cannot access 'mosesdecoder/bin/*': No such file or directory\n",
            "/content\n"
          ]
        }
      ]
    },
    {
      "cell_type": "code",
      "metadata": {
        "id": "TdAT92v0mmjV",
        "colab": {
          "base_uri": "https://localhost:8080/"
        },
        "outputId": "843ff004-0421-41d5-a67d-0649ab32ea40"
      },
      "source": [
        "!bash align.sh"
      ],
      "execution_count": null,
      "outputs": [
        {
          "output_type": "stream",
          "name": "stdout",
          "text": [
            "bash: align.sh: No such file or directory\n"
          ]
        }
      ]
    },
    {
      "cell_type": "code",
      "metadata": {
        "id": "Vw6K-AI0Vqvn"
      },
      "source": [
        "!bash preprocess.sh"
      ],
      "execution_count": null,
      "outputs": []
    },
    {
      "cell_type": "code",
      "metadata": {
        "id": "_R0r1so8R4kA"
      },
      "source": [
        "!nohup bash train.sh>tmp.log &"
      ],
      "execution_count": null,
      "outputs": []
    },
    {
      "cell_type": "code",
      "metadata": {
        "id": "7j6qKcElGpu5"
      },
      "source": [
        "!tail -f tmp.log"
      ],
      "execution_count": null,
      "outputs": []
    },
    {
      "cell_type": "code",
      "metadata": {
        "id": "a2S7N3ydH6nW",
        "outputId": "ffc6f28f-ce53-4cb8-e483-4c79ee1dfba5",
        "colab": {
          "base_uri": "https://localhost:8080/"
        }
      },
      "source": [
        "cd fairseq-gec"
      ],
      "execution_count": null,
      "outputs": [
        {
          "output_type": "stream",
          "text": [
            "/content/drive/My Drive/fairseq-gec\n"
          ],
          "name": "stdout"
        }
      ]
    },
    {
      "cell_type": "code",
      "metadata": {
        "id": "k0QZ-ZOlYQDN"
      },
      "source": [
        "import os\n",
        "!rm -rf out/data_raw out/result\n",
        "!mkdir -p out/data_raw/ out/result/\n",
        "for err_type in os.listdir('../data/out'):\n",
        "  print(err_type)\n",
        "  !cp ../data/out/{err_type}/{err_type}.trg ../data/out/{err_type}/{err_type}.tgt\n",
        "  !bash preprocess_hiwiki.sh ../data/out/{err_type}/{err_type}\n",
        "  !bash generate.sh\n",
        "  !mv out/result/outputema_last.txt ../data/out/{err_type}/fairseq.out\n",
        "  !rm -rf out/data_raw out/result\n",
        "  !mkdir -p out/data_raw/ out/result/"
      ],
      "execution_count": null,
      "outputs": []
    },
    {
      "cell_type": "code",
      "metadata": {
        "id": "o7Wf_NfmegYq"
      },
      "source": [
        "!bash interactive.sh"
      ],
      "execution_count": null,
      "outputs": []
    }
  ]
}